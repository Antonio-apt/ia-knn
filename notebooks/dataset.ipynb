{
 "cells": [
  {
   "cell_type": "code",
   "execution_count": 26,
   "metadata": {},
   "outputs": [],
   "source": [
    "import pandas as pd\n",
    "import numpy as np\n",
    "from sklearn.preprocessing import OneHotEncoder, StandardScaler\n",
    "from sklearn.compose import ColumnTransformer\n",
    "from sklearn.model_selection import train_test_split\n",
    "from sklearn.neighbors import KNeighborsClassifier\n",
    "from sklearn.metrics import accuracy_score"
   ]
  },
  {
   "cell_type": "code",
   "execution_count": 40,
   "metadata": {},
   "outputs": [
    {
     "data": {
      "text/plain": [
       "0     12\n",
       "1     12\n",
       "2      0\n",
       "3      6\n",
       "4      6\n",
       "5      9\n",
       "6      9\n",
       "7      0\n",
       "8      0\n",
       "9      0\n",
       "10     0\n",
       "11     0\n",
       "12     0\n",
       "13    13\n",
       "14     0\n",
       "15     0\n",
       "dtype: int64"
      ]
     },
     "execution_count": 40,
     "metadata": {},
     "output_type": "execute_result"
    }
   ],
   "source": [
    "# 1. Carregar os dados do conjunto \"Credit Approval\"\n",
    "df = pd.read_csv(\"../data/raw/crx.data\", header=None)\n",
    "df.isin([\"?\"]).sum()"
   ]
  },
  {
   "cell_type": "code",
   "execution_count": 42,
   "metadata": {},
   "outputs": [
    {
     "data": {
      "text/plain": [
       "0     0\n",
       "1     0\n",
       "2     0\n",
       "3     0\n",
       "4     0\n",
       "5     0\n",
       "6     0\n",
       "7     0\n",
       "8     0\n",
       "9     0\n",
       "10    0\n",
       "11    0\n",
       "12    0\n",
       "13    0\n",
       "14    0\n",
       "15    0\n",
       "dtype: int64"
      ]
     },
     "execution_count": 42,
     "metadata": {},
     "output_type": "execute_result"
    }
   ],
   "source": [
    "# 2. Eliminar exemplos com NA\n",
    "df.replace('?', np.nan, inplace=True)\n",
    "df.dropna(inplace=True)\n",
    "df.isin([\"?\"]).sum()"
   ]
  },
  {
   "cell_type": "code",
   "execution_count": 32,
   "metadata": {},
   "outputs": [],
   "source": [
    "# 3. Converter atributos categóricos em variáveis dummy\n",
    "categorical_features = [0, 3, 4, 5, 6, 8, 9, 11, 12]\n",
    "transformer = ColumnTransformer([('one_hot_encoder', OneHotEncoder(), categorical_features)], remainder='passthrough')\n",
    "df = transformer.fit_transform(df.astype(str))"
   ]
  },
  {
   "cell_type": "code",
   "execution_count": 33,
   "metadata": {},
   "outputs": [
    {
     "data": {
      "text/html": [
       "<div>\n",
       "<style scoped>\n",
       "    .dataframe tbody tr th:only-of-type {\n",
       "        vertical-align: middle;\n",
       "    }\n",
       "\n",
       "    .dataframe tbody tr th {\n",
       "        vertical-align: top;\n",
       "    }\n",
       "\n",
       "    .dataframe thead th {\n",
       "        text-align: right;\n",
       "    }\n",
       "</style>\n",
       "<table border=\"1\" class=\"dataframe\">\n",
       "  <thead>\n",
       "    <tr style=\"text-align: right;\">\n",
       "      <th></th>\n",
       "      <th>0</th>\n",
       "      <th>1</th>\n",
       "      <th>2</th>\n",
       "      <th>3</th>\n",
       "      <th>4</th>\n",
       "      <th>5</th>\n",
       "      <th>6</th>\n",
       "      <th>7</th>\n",
       "      <th>8</th>\n",
       "      <th>9</th>\n",
       "      <th>...</th>\n",
       "      <th>73</th>\n",
       "      <th>74</th>\n",
       "      <th>75</th>\n",
       "      <th>76</th>\n",
       "      <th>77</th>\n",
       "      <th>78</th>\n",
       "      <th>79</th>\n",
       "      <th>80</th>\n",
       "      <th>81</th>\n",
       "      <th>class</th>\n",
       "    </tr>\n",
       "  </thead>\n",
       "  <tbody>\n",
       "    <tr>\n",
       "      <th>0</th>\n",
       "      <td>-0.671648</td>\n",
       "      <td>0.671648</td>\n",
       "      <td>-0.555533</td>\n",
       "      <td>0.555533</td>\n",
       "      <td>-0.550811</td>\n",
       "      <td>0.550811</td>\n",
       "      <td>0.550811</td>\n",
       "      <td>-0.550811</td>\n",
       "      <td>0.550811</td>\n",
       "      <td>-0.550811</td>\n",
       "      <td>...</td>\n",
       "      <td>0.303271</td>\n",
       "      <td>-0.055427</td>\n",
       "      <td>-0.297209</td>\n",
       "      <td>-0.056962</td>\n",
       "      <td>-0.961440</td>\n",
       "      <td>-0.295171</td>\n",
       "      <td>-0.302596</td>\n",
       "      <td>0.128682</td>\n",
       "      <td>-0.193125</td>\n",
       "      <td>+</td>\n",
       "    </tr>\n",
       "    <tr>\n",
       "      <th>1</th>\n",
       "      <td>1.488875</td>\n",
       "      <td>-1.488875</td>\n",
       "      <td>-0.555533</td>\n",
       "      <td>0.555533</td>\n",
       "      <td>-0.550811</td>\n",
       "      <td>0.550811</td>\n",
       "      <td>0.550811</td>\n",
       "      <td>-0.550811</td>\n",
       "      <td>0.550811</td>\n",
       "      <td>-0.550811</td>\n",
       "      <td>...</td>\n",
       "      <td>0.303271</td>\n",
       "      <td>-0.055427</td>\n",
       "      <td>-0.297209</td>\n",
       "      <td>2.296536</td>\n",
       "      <td>-0.073565</td>\n",
       "      <td>0.236217</td>\n",
       "      <td>0.704516</td>\n",
       "      <td>-0.816802</td>\n",
       "      <td>-0.086443</td>\n",
       "      <td>+</td>\n",
       "    </tr>\n",
       "    <tr>\n",
       "      <th>2</th>\n",
       "      <td>1.488875</td>\n",
       "      <td>-1.488875</td>\n",
       "      <td>-0.555533</td>\n",
       "      <td>0.555533</td>\n",
       "      <td>-0.550811</td>\n",
       "      <td>0.550811</td>\n",
       "      <td>0.550811</td>\n",
       "      <td>-0.550811</td>\n",
       "      <td>0.550811</td>\n",
       "      <td>-0.550811</td>\n",
       "      <td>...</td>\n",
       "      <td>0.303271</td>\n",
       "      <td>-0.055427</td>\n",
       "      <td>-0.297209</td>\n",
       "      <td>-0.592078</td>\n",
       "      <td>-0.861903</td>\n",
       "      <td>-0.220955</td>\n",
       "      <td>-0.504019</td>\n",
       "      <td>0.592504</td>\n",
       "      <td>-0.036150</td>\n",
       "      <td>+</td>\n",
       "    </tr>\n",
       "    <tr>\n",
       "      <th>3</th>\n",
       "      <td>-0.671648</td>\n",
       "      <td>0.671648</td>\n",
       "      <td>-0.555533</td>\n",
       "      <td>0.555533</td>\n",
       "      <td>-0.550811</td>\n",
       "      <td>0.550811</td>\n",
       "      <td>0.550811</td>\n",
       "      <td>-0.550811</td>\n",
       "      <td>0.550811</td>\n",
       "      <td>-0.550811</td>\n",
       "      <td>...</td>\n",
       "      <td>0.303271</td>\n",
       "      <td>-0.055427</td>\n",
       "      <td>-0.297209</td>\n",
       "      <td>-0.310572</td>\n",
       "      <td>-0.654865</td>\n",
       "      <td>0.446990</td>\n",
       "      <td>0.503093</td>\n",
       "      <td>-0.477855</td>\n",
       "      <td>-0.192553</td>\n",
       "      <td>+</td>\n",
       "    </tr>\n",
       "    <tr>\n",
       "      <th>4</th>\n",
       "      <td>-0.671648</td>\n",
       "      <td>0.671648</td>\n",
       "      <td>-0.555533</td>\n",
       "      <td>0.555533</td>\n",
       "      <td>-0.550811</td>\n",
       "      <td>0.550811</td>\n",
       "      <td>0.550811</td>\n",
       "      <td>-0.550811</td>\n",
       "      <td>0.550811</td>\n",
       "      <td>-0.550811</td>\n",
       "      <td>...</td>\n",
       "      <td>-3.297382</td>\n",
       "      <td>-0.055427</td>\n",
       "      <td>3.364633</td>\n",
       "      <td>-0.958122</td>\n",
       "      <td>0.158358</td>\n",
       "      <td>-0.158613</td>\n",
       "      <td>-0.504019</td>\n",
       "      <td>-0.358926</td>\n",
       "      <td>-0.193125</td>\n",
       "      <td>+</td>\n",
       "    </tr>\n",
       "  </tbody>\n",
       "</table>\n",
       "<p>5 rows × 83 columns</p>\n",
       "</div>"
      ],
      "text/plain": [
       "          0         1         2         3         4         5         6   \n",
       "0 -0.671648  0.671648 -0.555533  0.555533 -0.550811  0.550811  0.550811  \\\n",
       "1  1.488875 -1.488875 -0.555533  0.555533 -0.550811  0.550811  0.550811   \n",
       "2  1.488875 -1.488875 -0.555533  0.555533 -0.550811  0.550811  0.550811   \n",
       "3 -0.671648  0.671648 -0.555533  0.555533 -0.550811  0.550811  0.550811   \n",
       "4 -0.671648  0.671648 -0.555533  0.555533 -0.550811  0.550811  0.550811   \n",
       "\n",
       "          7         8         9  ...        73        74        75        76   \n",
       "0 -0.550811  0.550811 -0.550811  ...  0.303271 -0.055427 -0.297209 -0.056962  \\\n",
       "1 -0.550811  0.550811 -0.550811  ...  0.303271 -0.055427 -0.297209  2.296536   \n",
       "2 -0.550811  0.550811 -0.550811  ...  0.303271 -0.055427 -0.297209 -0.592078   \n",
       "3 -0.550811  0.550811 -0.550811  ...  0.303271 -0.055427 -0.297209 -0.310572   \n",
       "4 -0.550811  0.550811 -0.550811  ... -3.297382 -0.055427  3.364633 -0.958122   \n",
       "\n",
       "         77        78        79        80        81  class  \n",
       "0 -0.961440 -0.295171 -0.302596  0.128682 -0.193125      +  \n",
       "1 -0.073565  0.236217  0.704516 -0.816802 -0.086443      +  \n",
       "2 -0.861903 -0.220955 -0.504019  0.592504 -0.036150      +  \n",
       "3 -0.654865  0.446990  0.503093 -0.477855 -0.192553      +  \n",
       "4  0.158358 -0.158613 -0.504019 -0.358926 -0.193125      +  \n",
       "\n",
       "[5 rows x 83 columns]"
      ]
     },
     "execution_count": 33,
     "metadata": {},
     "output_type": "execute_result"
    }
   ],
   "source": [
    "# 4. Normalizar os atributos\n",
    "scaler = StandardScaler()\n",
    "scaled_df = pd.DataFrame(scaler.fit_transform(df[:, :-1]), columns=range(df.shape[1]-1))\n",
    "scaled_df['class'] = df[:, -1]\n",
    "df = scaled_df\n",
    "df.head()"
   ]
  },
  {
   "cell_type": "code",
   "execution_count": 24,
   "metadata": {},
   "outputs": [],
   "source": [
    "# 5. Dividir o conjunto de dados em treinamento e teste\n",
    "X_train, X_test, y_train, y_test = train_test_split(df.iloc[:, :-1], df['class'], test_size=0.3, random_state=42)"
   ]
  },
  {
   "cell_type": "code",
   "execution_count": 25,
   "metadata": {},
   "outputs": [
    {
     "name": "stdout",
     "output_type": "stream",
     "text": [
      "A acurácia do modelo KNN é de 82.65%.\n"
     ]
    }
   ],
   "source": [
    "# 6. Executar o algoritmo KNN e calcular a acurácia\n",
    "knn = KNeighborsClassifier()\n",
    "knn.fit(X_train, y_train)\n",
    "y_pred = knn.predict(X_test)\n",
    "acc = accuracy_score(y_test, y_pred)\n",
    "print(f\"A acurácia do modelo KNN é de {round(acc*100,2)}%.\")"
   ]
  }
 ],
 "metadata": {
  "kernelspec": {
   "display_name": ".venv",
   "language": "python",
   "name": "python3"
  },
  "language_info": {
   "codemirror_mode": {
    "name": "ipython",
    "version": 3
   },
   "file_extension": ".py",
   "mimetype": "text/x-python",
   "name": "python",
   "nbconvert_exporter": "python",
   "pygments_lexer": "ipython3",
   "version": "3.11.2"
  },
  "orig_nbformat": 4,
  "vscode": {
   "interpreter": {
    "hash": "09f69714469b24b519276449f6ebafe5f0bf14402a8841aba16cf6a453f814aa"
   }
  }
 },
 "nbformat": 4,
 "nbformat_minor": 2
}
