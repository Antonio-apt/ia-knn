{
 "cells": [
  {
   "cell_type": "code",
   "execution_count": 1,
   "metadata": {},
   "outputs": [],
   "source": [
    "import numpy as np\n",
    "\n",
    "class KNN:\n",
    "    def __init__(self, k=3):\n",
    "        self.k = k\n",
    "\n",
    "    def fit(self, X, y):\n",
    "        self.X_train = X\n",
    "        self.y_train = y\n",
    "\n",
    "    def predict(self, X):\n",
    "        predictions = []\n",
    "        for i in range(len(X)):\n",
    "            distances = np.sqrt(np.sum(np.square(self.X_train - X[i, :]), axis=1))\n",
    "            nearest_neighbors = np.argsort(distances)[:self.k]\n",
    "            nearest_labels = self.y_train[nearest_neighbors]\n",
    "            labels, counts = np.unique(nearest_labels, return_counts=True)\n",
    "            predictions.append(labels[np.argmax(counts)])\n",
    "        return predictions"
   ]
  }
 ],
 "metadata": {
  "kernelspec": {
   "display_name": ".venv",
   "language": "python",
   "name": "python3"
  },
  "language_info": {
   "codemirror_mode": {
    "name": "ipython",
    "version": 3
   },
   "file_extension": ".py",
   "mimetype": "text/x-python",
   "name": "python",
   "nbconvert_exporter": "python",
   "pygments_lexer": "ipython3",
   "version": "3.11.2"
  },
  "orig_nbformat": 4,
  "vscode": {
   "interpreter": {
    "hash": "09f69714469b24b519276449f6ebafe5f0bf14402a8841aba16cf6a453f814aa"
   }
  }
 },
 "nbformat": 4,
 "nbformat_minor": 2
}
